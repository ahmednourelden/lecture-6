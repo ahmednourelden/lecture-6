{
 "cells": [
  {
   "cell_type": "markdown",
   "metadata": {},
   "source": [
    " ## There are four functions : \n",
    " 1. get_list(place):this function is used to get names of files as list\n",
    "    1. input argument: String represents Folder name in current path\n",
    "    2. output : List which contains all names of files\n",
    " 2. random_name():this function is used to get random name consist of 3 random letters and 3 random numbers\n",
    "    1. input argument : No input value \n",
    "    2. Output: value of String represents random generated name from 3 random 3 letters & 3 rondam numbers\n",
    " 3. Check_in_Exist(new_name , list_new_names):this function is used to check if generated name by random_name function was used before or not \n",
    "    1. input argument: two parameters , frist one is string and second one is list\n",
    "    2. output: function return True if name is exist in list and false if not exist\n",
    " 4. thanos(names):this function is used to rename file by new random name\n",
    "    1. input : list represents names of current files\n",
    "    2. output :return list of names after rename all files in specifc folder with random name \n",
    "    "
   ]
  },
  {
   "cell_type": "code",
   "execution_count": 1,
   "metadata": {},
   "outputs": [],
   "source": [
    "import os\n",
    "import random\n",
    "import time\n",
    "import string\n",
    " \n",
    "\n",
    "#this function is used to get names of files as list\n",
    "def get_list(place):\n",
    "    list_names = os.listdir(place)\n",
    "    return list_names\n",
    "\n",
    "\n",
    "#this function is used to get random name consist of 3 random letters and 3 random numbers\n",
    "def random_name():\n",
    "    alphabets=list(string.ascii_uppercase)\n",
    "    new_name=''\n",
    "    new_number=''\n",
    "    numbers=range(0,9)\n",
    "    for i in range (3):\n",
    "        random_letter = random.choice(alphabets)\n",
    "        new_name = new_name + random_letter  \n",
    "        random_number = random.choice(numbers)\n",
    "        new_number = new_number + str(random_number)\n",
    "    else:\n",
    "        new_label=new_name+new_number    \n",
    "    return new_label\n",
    "\n",
    "#this function is used to check if generated name by random_name function was used before or not \n",
    "def Check_in_Exist(new_name , list_new_names) :\n",
    "    for i in range (len(list_new_names)):\n",
    "        if new_name ==list_new_names[i]:\n",
    "            return False    \n",
    "    else:\n",
    "        return True\n",
    "    \n",
    "#this function is used to rename file by new random name\n",
    "def thanos(names):\n",
    "    list_new_names=[]\n",
    "    new_name=random_name()\n",
    "    for i in range(len(names)):\n",
    "        \n",
    "        while Check_in_Exist(new_name , list_new_names)!=True:\n",
    "            new_name=random_name()\n",
    "        list_new_names.append(new_name) \n",
    "        os.rename(f'universe/{names[i]}' , f'universe/{new_name}.jpg')\n",
    "        \n",
    "    print('Finally renamed all files with random names and numbers')\n",
    "    return list_new_names\n",
    "  "
   ]
  },
  {
   "cell_type": "code",
   "execution_count": 2,
   "metadata": {},
   "outputs": [
    {
     "name": "stdout",
     "output_type": "stream",
     "text": [
      "Finally renamed all files with random names and numbers\n"
     ]
    },
    {
     "data": {
      "text/plain": [
       "['YSI572',\n",
       " 'ZVK114',\n",
       " 'ZRB231',\n",
       " 'ABF410',\n",
       " 'HZR034',\n",
       " 'PHZ858',\n",
       " 'TFH118',\n",
       " 'FXR158',\n",
       " 'FAQ005',\n",
       " 'TBU562',\n",
       " 'NWG627',\n",
       " 'OYK051',\n",
       " 'ABW315',\n",
       " 'ARV561',\n",
       " 'LVJ365',\n",
       " 'PSO224',\n",
       " 'LOD711',\n",
       " 'SBU605',\n",
       " 'IXS136',\n",
       " 'LEL515',\n",
       " 'ORJ817',\n",
       " 'VUA271',\n",
       " 'RZI344',\n",
       " 'VNU267',\n",
       " 'TGQ464',\n",
       " 'HGC853',\n",
       " 'KBB707',\n",
       " 'CDW330',\n",
       " 'DAJ380',\n",
       " 'YDL321',\n",
       " 'YVK527',\n",
       " 'GFY203',\n",
       " 'UMV662',\n",
       " 'OAB063',\n",
       " 'XBF678',\n",
       " 'TTD213',\n",
       " 'WTS888',\n",
       " 'FCU654',\n",
       " 'YLS682',\n",
       " 'HCA018',\n",
       " 'KTW456',\n",
       " 'MRW013',\n",
       " 'UYU720',\n",
       " 'BZZ328',\n",
       " 'HEM553',\n",
       " 'FBR443',\n",
       " 'JFT047',\n",
       " 'TSJ027',\n",
       " 'KSO380',\n",
       " 'JTQ657']"
      ]
     },
     "execution_count": 2,
     "metadata": {},
     "output_type": "execute_result"
    }
   ],
   "source": [
    "\n",
    "\n",
    "old_names=get_list('universe')\n",
    "thanos(old_names)\n"
   ]
  },
  {
   "cell_type": "code",
   "execution_count": null,
   "metadata": {},
   "outputs": [],
   "source": []
  }
 ],
 "metadata": {
  "kernelspec": {
   "display_name": "Python 3",
   "language": "python",
   "name": "python3"
  },
  "language_info": {
   "codemirror_mode": {
    "name": "ipython",
    "version": 3
   },
   "file_extension": ".py",
   "mimetype": "text/x-python",
   "name": "python",
   "nbconvert_exporter": "python",
   "pygments_lexer": "ipython3",
   "version": "3.7.6"
  }
 },
 "nbformat": 4,
 "nbformat_minor": 4
}
